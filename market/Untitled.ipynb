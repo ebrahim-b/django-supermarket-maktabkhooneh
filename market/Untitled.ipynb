{
 "cells": [
  {
   "cell_type": "code",
   "execution_count": 1,
   "id": "d6e9d6cf",
   "metadata": {},
   "outputs": [],
   "source": [
    "from django.db import models"
   ]
  },
  {
   "cell_type": "code",
   "execution_count": 2,
   "id": "9a676931",
   "metadata": {},
   "outputs": [],
   "source": [
    "from django.contrib.auth.models import User"
   ]
  },
  {
   "cell_type": "code",
   "execution_count": 3,
   "id": "7f928a23",
   "metadata": {},
   "outputs": [],
   "source": [
    "from market.models import Product"
   ]
  },
  {
   "cell_type": "code",
   "execution_count": 4,
   "id": "f8eb1ba7",
   "metadata": {},
   "outputs": [],
   "source": [
    "p = Product.objects.get(code='100')"
   ]
  },
  {
   "cell_type": "code",
   "execution_count": 5,
   "id": "b6807144",
   "metadata": {},
   "outputs": [
    {
     "data": {
      "text/plain": [
       "6"
      ]
     },
     "execution_count": 5,
     "metadata": {},
     "output_type": "execute_result"
    }
   ],
   "source": [
    "p.inventory"
   ]
  },
  {
   "cell_type": "code",
   "execution_count": 6,
   "id": "944be1d9",
   "metadata": {},
   "outputs": [],
   "source": [
    "u= User.objects.get(username='ali')"
   ]
  },
  {
   "cell_type": "code",
   "execution_count": 7,
   "id": "8319f7c9",
   "metadata": {},
   "outputs": [],
   "source": [
    "from market.models import Customer,Order,OrderRow"
   ]
  },
  {
   "cell_type": "code",
   "execution_count": 8,
   "id": "c96dcc21",
   "metadata": {},
   "outputs": [],
   "source": [
    "c= Customer.objects.get(user=u)"
   ]
  },
  {
   "cell_type": "code",
   "execution_count": 9,
   "id": "1c961a3a",
   "metadata": {},
   "outputs": [
    {
     "data": {
      "text/plain": [
       "<Customer: Customer object (1)>"
      ]
     },
     "execution_count": 9,
     "metadata": {},
     "output_type": "execute_result"
    }
   ],
   "source": [
    "c"
   ]
  },
  {
   "cell_type": "code",
   "execution_count": 10,
   "id": "db712baf",
   "metadata": {},
   "outputs": [],
   "source": [
    "o = Order(customer=c)"
   ]
  },
  {
   "cell_type": "code",
   "execution_count": 11,
   "id": "4616eac6",
   "metadata": {},
   "outputs": [
    {
     "data": {
      "text/plain": [
       "<Order: Order object (1)>"
      ]
     },
     "execution_count": 11,
     "metadata": {},
     "output_type": "execute_result"
    }
   ],
   "source": [
    "o.initiate(c)"
   ]
  },
  {
   "cell_type": "code",
   "execution_count": 12,
   "id": "45a24b01",
   "metadata": {},
   "outputs": [],
   "source": [
    "o = o.initiate(c)"
   ]
  },
  {
   "cell_type": "code",
   "execution_count": 13,
   "id": "4f0c7aa1",
   "metadata": {},
   "outputs": [
    {
     "data": {
      "text/plain": [
       "datetime.datetime(2021, 4, 2, 14, 31, 21, 51496, tzinfo=<UTC>)"
      ]
     },
     "execution_count": 13,
     "metadata": {},
     "output_type": "execute_result"
    }
   ],
   "source": [
    "o.order_time"
   ]
  },
  {
   "cell_type": "code",
   "execution_count": 47,
   "id": "c438f3ca",
   "metadata": {},
   "outputs": [],
   "source": [
    "o1 = o.initiate(c)"
   ]
  },
  {
   "cell_type": "code",
   "execution_count": 48,
   "id": "d1f69419",
   "metadata": {},
   "outputs": [
    {
     "data": {
      "text/plain": [
       "datetime.datetime(2021, 4, 2, 14, 31, 21, 51496, tzinfo=<UTC>)"
      ]
     },
     "execution_count": 48,
     "metadata": {},
     "output_type": "execute_result"
    }
   ],
   "source": [
    "o1.order_time"
   ]
  },
  {
   "cell_type": "code",
   "execution_count": 14,
   "id": "2d9e1ecb",
   "metadata": {},
   "outputs": [
    {
     "ename": "Exception",
     "evalue": "ورودی غیرقابل قبول می باشد",
     "output_type": "error",
     "traceback": [
      "\u001b[0;31m---------------------------------------------------------------------------\u001b[0m",
      "\u001b[0;31mException\u001b[0m                                 Traceback (most recent call last)",
      "\u001b[0;32m<ipython-input-14-39583e5acd16>\u001b[0m in \u001b[0;36m<module>\u001b[0;34m\u001b[0m\n\u001b[0;32m----> 1\u001b[0;31m \u001b[0mo\u001b[0m\u001b[0;34m.\u001b[0m\u001b[0madd_product\u001b[0m\u001b[0;34m(\u001b[0m\u001b[0mp\u001b[0m\u001b[0;34m,\u001b[0m\u001b[0;34m-\u001b[0m\u001b[0;36m2\u001b[0m\u001b[0;34m)\u001b[0m\u001b[0;34m\u001b[0m\u001b[0;34m\u001b[0m\u001b[0m\n\u001b[0m",
      "\u001b[0;32m~/maktabkhooneh-projects/django-supermarket-maktabkhooneh/market/models.py\u001b[0m in \u001b[0;36madd_product\u001b[0;34m(self, product, amount)\u001b[0m\n\u001b[1;32m     80\u001b[0m         \u001b[0;32mif\u001b[0m \u001b[0mamount\u001b[0m \u001b[0;34m<=\u001b[0m \u001b[0;36m0\u001b[0m\u001b[0;34m:\u001b[0m\u001b[0;34m\u001b[0m\u001b[0;34m\u001b[0m\u001b[0m\n\u001b[1;32m     81\u001b[0m             \u001b[0;32mraise\u001b[0m \u001b[0mException\u001b[0m\u001b[0;34m(\u001b[0m\u001b[0;34m\"ورودی غیرقابل قبول می باشد\"\u001b[0m\u001b[0;34m)\u001b[0m\u001b[0;34m\u001b[0m\u001b[0;34m\u001b[0m\u001b[0m\n\u001b[0;32m---> 82\u001b[0;31m         \u001b[0;32mif\u001b[0m \u001b[0mamount\u001b[0m \u001b[0;34m>\u001b[0m \u001b[0mProduct\u001b[0m\u001b[0;34m.\u001b[0m\u001b[0mobjects\u001b[0m\u001b[0;34m.\u001b[0m\u001b[0mget\u001b[0m\u001b[0;34m(\u001b[0m\u001b[0mcode\u001b[0m\u001b[0;34m=\u001b[0m\u001b[0mproduct\u001b[0m\u001b[0;34m.\u001b[0m\u001b[0mcode\u001b[0m\u001b[0;34m)\u001b[0m\u001b[0;34m.\u001b[0m\u001b[0minventory\u001b[0m\u001b[0;34m:\u001b[0m\u001b[0;34m\u001b[0m\u001b[0;34m\u001b[0m\u001b[0m\n\u001b[0m\u001b[1;32m     83\u001b[0m             \u001b[0;32mraise\u001b[0m \u001b[0mException\u001b[0m\u001b[0;34m(\u001b[0m\u001b[0;34m\"کالا به این میزان موجود نمی باشد\"\u001b[0m\u001b[0;34m)\u001b[0m\u001b[0;34m\u001b[0m\u001b[0;34m\u001b[0m\u001b[0m\n\u001b[1;32m     84\u001b[0m         \u001b[0;32mif\u001b[0m \u001b[0mproduct\u001b[0m\u001b[0;34m.\u001b[0m\u001b[0mcode\u001b[0m \u001b[0;32min\u001b[0m \u001b[0;34m[\u001b[0m\u001b[0mitem\u001b[0m\u001b[0;34m.\u001b[0m\u001b[0mproduct\u001b[0m\u001b[0;34m.\u001b[0m\u001b[0mcode\u001b[0m \u001b[0;32mfor\u001b[0m \u001b[0mitem\u001b[0m \u001b[0;32min\u001b[0m \u001b[0mself\u001b[0m\u001b[0;34m.\u001b[0m\u001b[0mgetRows\u001b[0m\u001b[0;34m(\u001b[0m\u001b[0;34m)\u001b[0m\u001b[0;34m]\u001b[0m\u001b[0;34m:\u001b[0m\u001b[0;34m\u001b[0m\u001b[0;34m\u001b[0m\u001b[0m\n",
      "\u001b[0;31mException\u001b[0m: ورودی غیرقابل قبول می باشد"
     ]
    }
   ],
   "source": [
    "o.add_product(p,-2)"
   ]
  },
  {
   "cell_type": "code",
   "execution_count": 15,
   "id": "4003d2ff",
   "metadata": {},
   "outputs": [],
   "source": [
    "o_row = OrderRow.objects.all()"
   ]
  },
  {
   "cell_type": "code",
   "execution_count": 16,
   "id": "b93ba886",
   "metadata": {},
   "outputs": [
    {
     "data": {
      "text/plain": [
       "datetime.datetime(2021, 4, 2, 14, 31, 21, 51496, tzinfo=<UTC>)"
      ]
     },
     "execution_count": 16,
     "metadata": {},
     "output_type": "execute_result"
    }
   ],
   "source": [
    "o.order_time"
   ]
  }
 ],
 "metadata": {
  "kernelspec": {
   "display_name": "Django Shell-Plus",
   "language": "python",
   "name": "django_extensions"
  },
  "language_info": {
   "codemirror_mode": {
    "name": "ipython",
    "version": 3
   },
   "file_extension": ".py",
   "mimetype": "text/x-python",
   "name": "python",
   "nbconvert_exporter": "python",
   "pygments_lexer": "ipython3",
   "version": "3.9.2"
  }
 },
 "nbformat": 4,
 "nbformat_minor": 5
}
