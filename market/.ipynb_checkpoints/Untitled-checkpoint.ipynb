{
 "cells": [
  {
   "cell_type": "code",
   "execution_count": 1,
   "id": "60fda594",
   "metadata": {},
   "outputs": [],
   "source": [
    "from django.db import models"
   ]
  },
  {
   "cell_type": "code",
   "execution_count": 2,
   "id": "8f94e546",
   "metadata": {},
   "outputs": [],
   "source": [
    "from django.contrib.auth.models import User"
   ]
  },
  {
   "cell_type": "code",
   "execution_count": 7,
   "id": "bb5a1ff2",
   "metadata": {},
   "outputs": [],
   "source": [
    "from market.models import Product"
   ]
  },
  {
   "cell_type": "code",
   "execution_count": 8,
   "id": "1a904ddf",
   "metadata": {},
   "outputs": [],
   "source": [
    "p = Product.objects.get(code='100')"
   ]
  },
  {
   "cell_type": "code",
   "execution_count": 11,
   "id": "2411b3f4",
   "metadata": {},
   "outputs": [
    {
     "data": {
      "text/plain": [
       "6"
      ]
     },
     "execution_count": 11,
     "metadata": {},
     "output_type": "execute_result"
    }
   ],
   "source": [
    "p.inventory"
   ]
  },
  {
   "cell_type": "code",
   "execution_count": 12,
   "id": "7df1912c",
   "metadata": {},
   "outputs": [],
   "source": [
    "u= User.objects.get(username='ali')"
   ]
  },
  {
   "cell_type": "code",
   "execution_count": 13,
   "id": "bb50cefe",
   "metadata": {},
   "outputs": [],
   "source": [
    "from market.models import Customer,Order,OrderRow"
   ]
  },
  {
   "cell_type": "code",
   "execution_count": 14,
   "id": "0d8afca9",
   "metadata": {},
   "outputs": [],
   "source": [
    "c= Customer.objects.get(user=u)"
   ]
  },
  {
   "cell_type": "code",
   "execution_count": 15,
   "id": "6fe7b869",
   "metadata": {},
   "outputs": [
    {
     "data": {
      "text/plain": [
       "<Customer: Customer object (1)>"
      ]
     },
     "execution_count": 15,
     "metadata": {},
     "output_type": "execute_result"
    }
   ],
   "source": [
    "c"
   ]
  },
  {
   "cell_type": "code",
   "execution_count": 16,
   "id": "1d00932e",
   "metadata": {},
   "outputs": [],
   "source": [
    "o = Order(customer=c)"
   ]
  },
  {
   "cell_type": "code",
   "execution_count": 19,
   "id": "dff56d67",
   "metadata": {},
   "outputs": [
    {
     "data": {
      "text/plain": [
       "<Order: Order object (1)>"
      ]
     },
     "execution_count": 19,
     "metadata": {},
     "output_type": "execute_result"
    }
   ],
   "source": [
    "o.initiate(c)"
   ]
  },
  {
   "cell_type": "code",
   "execution_count": 23,
   "id": "094ab819",
   "metadata": {},
   "outputs": [],
   "source": [
    "o = o.initiate(c)"
   ]
  },
  {
   "cell_type": "code",
   "execution_count": 27,
   "id": "87fde7b1",
   "metadata": {},
   "outputs": [
    {
     "data": {
      "text/plain": [
       "datetime.datetime(2021, 4, 1, 18, 55, 51, 580174, tzinfo=<UTC>)"
      ]
     },
     "execution_count": 27,
     "metadata": {},
     "output_type": "execute_result"
    }
   ],
   "source": [
    "o.order_time"
   ]
  },
  {
   "cell_type": "code",
   "execution_count": 31,
   "id": "87882f35",
   "metadata": {},
   "outputs": [],
   "source": [
    "o1 = o.initiate(c)"
   ]
  },
  {
   "cell_type": "code",
   "execution_count": 33,
   "id": "5da282eb",
   "metadata": {},
   "outputs": [
    {
     "data": {
      "text/plain": [
       "datetime.datetime(2021, 4, 1, 18, 55, 51, 580174, tzinfo=<UTC>)"
      ]
     },
     "execution_count": 33,
     "metadata": {},
     "output_type": "execute_result"
    }
   ],
   "source": [
    "o1.order_time"
   ]
  }
 ],
 "metadata": {
  "kernelspec": {
   "display_name": "Django Shell-Plus",
   "language": "python",
   "name": "django_extensions"
  },
  "language_info": {
   "codemirror_mode": {
    "name": "ipython",
    "version": 3
   },
   "file_extension": ".py",
   "mimetype": "text/x-python",
   "name": "python",
   "nbconvert_exporter": "python",
   "pygments_lexer": "ipython3",
   "version": "3.9.2"
  }
 },
 "nbformat": 4,
 "nbformat_minor": 5
}
